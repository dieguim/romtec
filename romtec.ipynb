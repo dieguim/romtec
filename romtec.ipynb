{
 "cells": [
  {
   "cell_type": "code",
   "execution_count": 1,
   "id": "87620a3e-6690-4a04-b018-59855ca15b6b",
   "metadata": {},
   "outputs": [],
   "source": [
    "import math\n",
    "\n",
    "profundidade = -10\n",
    "\n",
    "haste = 3\n",
    "angulo_entrada = 15 * math.pi / 180\n",
    "\n",
    "profundidade_inicial = -2\n",
    "\n",
    "angulo_quebra_min = 4 * math.pi / 180\n",
    "angulo_quebra_max = 7 * math.pi / 180\n",
    "\n",
    "angulo_quebra = (angulo_quebra_min + angulo_quebra_max) / 2"
   ]
  },
  {
   "cell_type": "code",
   "execution_count": 2,
   "id": "52705630-36ec-46b0-b0a6-ab568a5d8287",
   "metadata": {},
   "outputs": [],
   "source": [
    "import math\n",
    "\n",
    "# def angulo(porcentagem):\n",
    "#     return math.atan(porcentagem/100)\n",
    "\n",
    "def delta_y(haste, angulo):\n",
    "    return haste * math.sin(angulo)\n",
    "\n",
    "def delta_x(haste, angulo):\n",
    "    return haste * math.cos(angulo)"
   ]
  },
  {
   "cell_type": "code",
   "execution_count": 3,
   "id": "e0d1f9c1-b463-4f0a-9ce0-f2f02fb896f0",
   "metadata": {},
   "outputs": [],
   "source": [
    "def descida(profundidade):\n",
    "    y = delta_y(profundidade_inicial, angulo_entrada)\n",
    "    x = delta_x(profundidade_inicial, angulo_entrada)\n",
    "    \n",
    "    pontos = [(x, y)]\n",
    "    \n",
    "    i = 1\n",
    "    while y > profundidade / 2:\n",
    "        y = y - delta_y(haste, angulo_entrada + angulo_quebra * i)\n",
    "        x = x + delta_x(haste, angulo_entrada + angulo_quebra * i)\n",
    "        pontos += [(x, y)]\n",
    "        i += 1\n",
    "\n",
    "    \n",
    "    i -= 1\n",
    "    while y > profundidade:\n",
    "        y = y - delta_y(haste, angulo_entrada + angulo_quebra * i)\n",
    "        x = x + delta_x(haste, angulo_entrada + angulo_quebra * i)\n",
    "        pontos += [(x, y)]\n",
    "        i -= 1\n",
    "        \n",
    "    return pontos"
   ]
  },
  {
   "cell_type": "code",
   "execution_count": 4,
   "id": "a86eb158-1a9b-41b0-bac4-92d98008331b",
   "metadata": {},
   "outputs": [
    {
     "name": "stdout",
     "output_type": "stream",
     "text": [
      "[(-1.9318516525781366, -0.5176380902050415), (0.8781649151670565, -1.5682602339834437), (3.574547054064558, -2.883373674350676), (6.132467547126835, -4.450869368498522), (8.528374077268714, -6.256314437954667), (10.740206087699086, -8.283085060801648), (12.952038098129458, -10.309855683648628), (15.347944628271337, -12.115300753104773), (17.905865121333612, -13.682796447252619), (20.602247260231113, -14.997909887619851), (23.412263827976307, -16.048532031398253)]\n"
     ]
    }
   ],
   "source": [
    "pontos = descida(-15)\n",
    "print(pontos)"
   ]
  },
  {
   "cell_type": "code",
   "execution_count": 5,
   "id": "f6a57b7f-c63d-4051-8fa9-5bce78ff1168",
   "metadata": {},
   "outputs": [
    {
     "data": {
      "text/plain": [
       "[<matplotlib.lines.Line2D at 0xffff50964220>]"
      ]
     },
     "execution_count": 5,
     "metadata": {},
     "output_type": "execute_result"
    },
    {
     "data": {
      "image/png": "[encoded data removed]",
      "text/plain": [
       "<Figure size 640x480 with 1 Axes>"
      ]
     },
     "metadata": {},
     "output_type": "display_data"
    }
   ],
   "source": [
    "import matplotlib.pyplot as plt\n",
    "\n",
    "plt.scatter(*zip(*pontos))\n",
    "plt.plot(*zip(*pontos))"
   ]
  }
 ],
 "metadata": {
  "kernelspec": {
   "display_name": "Python 3 (ipykernel)",
   "language": "python",
   "name": "python3"
  },
  "language_info": {
   "codemirror_mode": {
    "name": "ipython",
    "version": 3
   },
   "file_extension": ".py",
   "mimetype": "text/x-python",
   "name": "python",
   "nbconvert_exporter": "python",
   "pygments_lexer": "ipython3",
   "version": "3.10.6"
  }
 },
 "nbformat": 4,
 "nbformat_minor": 5
}
